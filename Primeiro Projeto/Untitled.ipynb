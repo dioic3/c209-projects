{
 "cells": [
  {
   "cell_type": "code",
   "execution_count": 2,
   "id": "a8de4211",
   "metadata": {},
   "outputs": [],
   "source": [
    "import cv2\n",
    "fgbg = cv2.createBackgroundSubtractorMOG2() #função usada para subtração de imagem"
   ]
  },
  {
   "cell_type": "code",
   "execution_count": null,
   "id": "1eeef768",
   "metadata": {},
   "outputs": [],
   "source": [
    "#com video\n",
    "cap = cv2.VideoCapture('teste.mp4')\n",
    "while(1):\n",
    "    ret, frame = cap.read()\n",
    "    resizedFrame = cv2.resize(frame, (0, 0), fx=0.50, fy=0.50)\n",
    "\n",
    "    fgmask = fgbg.apply(frame)\n",
    "    cv2.imshow('frame',fgmask)\n",
    "    k = cv2.waitKey(30) & 0xff\n",
    "    if k == 27:\n",
    "        break\n",
    "cap.release()\n",
    "cv2.destroyAllWindows()"
   ]
  },
  {
   "cell_type": "code",
   "execution_count": null,
   "id": "ebd55433",
   "metadata": {},
   "outputs": [],
   "source": [
    "#com camera do computador\n",
    "cam=cv2.VideoCapture(0)\n",
    "while(cam.isOpened):\n",
    "    f,img=cam.read()\n",
    "    if f==True:\n",
    "        fgmask = fgbg.apply(img)\n",
    "        cv2.imshow(\"track\",fgmask)\n",
    "    if(cv2.waitKey(27)!=-1):\n",
    "        break\n",
    "cam.release()\n",
    "cv2.destroyAllWindows()"
   ]
  },
  {
   "cell_type": "code",
   "execution_count": null,
   "id": "1cdecc9f",
   "metadata": {},
   "outputs": [],
   "source": []
  }
 ],
 "metadata": {
  "kernelspec": {
   "display_name": "Python 3 (ipykernel)",
   "language": "python",
   "name": "python3"
  },
  "language_info": {
   "codemirror_mode": {
    "name": "ipython",
    "version": 3
   },
   "file_extension": ".py",
   "mimetype": "text/x-python",
   "name": "python",
   "nbconvert_exporter": "python",
   "pygments_lexer": "ipython3",
   "version": "3.11.0"
  }
 },
 "nbformat": 4,
 "nbformat_minor": 5
}
